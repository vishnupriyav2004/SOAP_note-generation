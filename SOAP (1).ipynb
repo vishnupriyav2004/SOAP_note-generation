{
 "cells": [
  {
   "cell_type": "markdown",
   "id": "410b5faf-b65e-4536-a7aa-8f667d226f72",
   "metadata": {},
   "source": [
    "###  About the dataset \n",
    "**ACI-Bench** (Automatic Clinical Inference Benchmark) is a research dataset designed for developing and evaluating AI systems that can convert real-world doctor–patient dialogues into structured clinical documentation.  \n",
    "It provides pairs of:\n",
    "\n",
    "- **Narrative Conversations:** Natural doctor–patient transcripts. These are unstructured, free-flowing dialogues where a doctor interviews a patient, asks clarifying questions, discusses medical history, symptoms, lab tests, and next steps.\n",
    "  \n",
    "- **Structured Clinical Notes:** Professionally authored SOAP notes that summarize the conversation in a standardized medical format. SOAP stands for:\n",
    "  - **S (Subjective):** The patient’s reported symptoms, history, complaints.\n",
    "  - **O (Objective):** Clinician’s observations, exam findings, vital signs, test results.\n",
    "  - **A (Assessment):** Diagnoses and clinical reasoning.\n",
    "  - **P (Plan):** Recommended treatments, further tests, follow-up instructions.\n",
    "  ### 📌 Key Details\n",
    "- **Source:** [ACI-Bench GitHub](https://github.com/wyim/aci-bench)\n",
    "- **Format:** CSV file with two main columns: `datasetname` `dialogue` (the conversation) and `note` (the reference SOAP note).\n",
    "- **Use Case:** Automatic clinical note generation, summarization, and faithful text generation for medical AI research.\n",
    "  "
   ]
  },
  {
   "cell_type": "markdown",
   "id": "e772e321-3292-41fd-9dbc-20bc5c625876",
   "metadata": {},
   "source": [
    "## Load and Inspect Dataset\n",
    "In this step, we load the ACI-Bench dataset directly from the GitHub source.  \n",
    "We print the first few rows to verify the data structure and ensure the required columns (`dialogue` and `note`) are present.  \n",
    "This helps us understand how each doctor–patient conversation maps to a structured clinical note, which is crucial for building our generation and evaluation pipeline."
   ]
  },
  {
   "cell_type": "code",
   "execution_count": 1,
   "id": "2b4996b5-f6e0-49d6-b73d-dfb5b3cf1a66",
   "metadata": {},
   "outputs": [
    {
     "name": "stdout",
     "output_type": "stream",
     "text": [
      "      dataset encounter_id                                           dialogue  \\\n",
      "0  virtassist       D2N001  [doctor] hi , martha . how are you ?\\n[patient...   \n",
      "1  virtassist       D2N002  [doctor] hi , andrew , how are you ?\\n[patient...   \n",
      "2  virtassist       D2N003  [doctor] hi , john . how are you ?\\n[patient] ...   \n",
      "3  virtassist       D2N004  [doctor] hi , james , how are you ?\\n[patient]...   \n",
      "4  virtassist       D2N005  [doctor] hey , ms. hill . nice to see you .\\n[...   \n",
      "\n",
      "                                                note  \n",
      "0  CHIEF COMPLAINT\\n\\nAnnual exam.\\n\\nHISTORY OF ...  \n",
      "1  CHIEF COMPLAINT\\n\\nJoint pain.\\n\\nHISTORY OF P...  \n",
      "2  CHIEF COMPLAINT\\n\\nBack pain.\\n\\nHISTORY OF PR...  \n",
      "3  CHIEF COMPLAINT\\n\\nBack pain.\\n\\nHISTORY OF PR...  \n",
      "4  CC:\\n\\nRight middle finger pain.\\n\\nHPI:\\n\\nMs...  \n",
      "Index(['dataset', 'encounter_id', 'dialogue', 'note'], dtype='object')\n"
     ]
    }
   ],
   "source": [
    "import pandas as pd\n",
    "\n",
    "# Load the CSV from GitHub \n",
    "url = \"https://raw.githubusercontent.com/wyim/aci-bench/main/data/challenge_data/train.csv\"\n",
    "\n",
    "df = pd.read_csv(url)\n",
    "print(df.head())\n",
    "print(df.columns)"
   ]
  },
  {
   "cell_type": "markdown",
   "id": "bd7c0b01-bef4-4a47-bb0d-10ae11cf5b79",
   "metadata": {},
   "source": [
    "## View a Sample Doctor–Patient Dialogue and Corresponding Clinical Note\n",
    "\n",
    "Here, we extract the first example from the dataset to inspect its full conversation and reference SOAP note.  \n",
    "This qualitative check helps us understand:\n",
    "- How real medical conversations are structured.\n",
    "- How detailed the SOAP note is.\n",
    "- What information must be preserved during generation.\n",
    "\n",
    "This insight will guide how we design our prompt for the LLM and how we evaluate the outputs."
   ]
  },
  {
   "cell_type": "code",
   "execution_count": 2,
   "id": "c60d0588-713a-4b7e-a2fb-db4d5a7b7f47",
   "metadata": {},
   "outputs": [
    {
     "name": "stdout",
     "output_type": "stream",
     "text": [
      "\n",
      "=== DOCTOR–PATIENT CONVERSATION ===\n",
      "[doctor] hi , martha . how are you ?\n",
      "[patient] i'm doing okay . how are you ?\n",
      "[doctor] i'm doing okay . so , i know the nurse told you about dax . i'd like to tell dax a little bit about you , okay ?\n",
      "[patient] okay .\n",
      "[doctor] martha is a 50-year-old female with a past medical history significant for congestive heart failure , depression and hypertension who presents for her annual exam . so , martha , it's been a year since i've seen you . how are you doing ?\n",
      "[patient] i'm doing well . i've been traveling a lot recently since things have , have gotten a bit lighter . and i got my , my vaccine , so i feel safer about traveling . i've been doing a lot of hiking . uh , went to washington last weekend to hike in northern cascades, like around the mount baker area .\n",
      "[doctor] nice . that's great . i'm glad to hear that you're staying active , you know . i , i just love this weather . i'm so happy the summer is over . i'm definitely more of a fall person .\n",
      "[patient] yes , fall foliage is the best .\n",
      "[doctor] yeah . um , so tell me , how are you doing with the congestive heart failure ? how are you doing watching your diet ? i know we've talked about watching a low sodium diet . are you doing okay with that ?\n",
      "[patient] i've been doing well with that . i resisted , as much , as i could , from the tater tots , you know , the soft pretzels , the salty foods that i , i love to eat . and i've been doing a really good job .\n",
      "[doctor] okay , all right . well , i'm glad to hear that . and you're taking your medication ?\n",
      "[patient] yes .\n",
      "[doctor] okay , good . and any symptoms like chest pains , shortness of breath , any swelling in your legs ?\n",
      "[patient] no , not that i've noticed .\n",
      "[doctor] okay , all right . and then in terms of your depression , i know that we tried to stay off of medication in the past because you're on medications for your other problems . how are you doing ? and i know that you enrolled into therapy . is that helping ? or-\n",
      "[patient] yeah , it's been helping a lot . i've been going every week , um , for the past year since my last annual exam . and that's been really helpful for me .\n",
      "[doctor] okay . so , no , no issues , no feelings of wanting to harm yourself or hurt others ?\n",
      "[patient] no , nothing like that .\n",
      "[doctor] okay , all right . and then in terms of your high blood pressure , i know that you and i have kind of battled in the past with you remembering to take some of your blood pressure medications . how are you doing with that ?\n",
      "[patient] i'm still forgetting to take my blood pressure medication . and i've noticed when work gets more stressful , my blood pressure goes up .\n",
      "[doctor] okay . and , and so how has work going for you ?\n",
      "[patient] it's been okay . it's been a lot of long hours , late nights . a lot of , um , you know , fiscal year end data that i've been having to pull . so , a lot of responsibility , which is good . but with the responsibility comes the stress .\n",
      "[doctor] yeah , okay , all right . i understand . um , all right . well , i know that you did a review of system sheet when you checked in with the nurse . i know that you were endorsing some nasal congestion from some of the fall pollen and allergies . any other symptoms , nausea or vomiting , abdominal pain , anything like that ?\n",
      "[patient] no , nothing like that .\n",
      "[doctor] no , okay , all right . well , i'm gon na go ahead and do a quick physical exam , okay ?\n",
      "[patient] okay .\n",
      "[doctor] hey , dragon , show me the blood pressure . so , yeah , looking at your blood pressure today here in the office , it is a little elevated . you know , it could just , you could just be nervous . uh , let's look at some of the past readings . hey , dragon , show me the blood pressure readings . hey , dragon , show me the blood pressure readings . here we go . uh , so they are running on the higher side . um , y- you know , i , i do think that , you know , i'd like to see you take your medication a little bit more , so that we can get that under control a little bit better , okay ?\n",
      "[patient] okay .\n",
      "[doctor] so , i'm just gon na check out your heart and your lungs . and you know , let you know what i find , okay ?\n",
      "[patient] okay .\n",
      "[doctor] okay . so , on your physical examination , you know , everything looks good . on your heart exam , i do appreciate a three out of six systolic ejection murmur , which i've heard in the past , okay ? and on your lower extremities , i do appreciate one plus pitting edema , so you do have a little bit of fluid in your legs , okay ?\n",
      "[patient] okay .\n",
      "[doctor] let's go ahead , i wan na look at some of your results , okay ? hey , dragon , show me the echocardiogram . so , this is the result of the echocardiogram that we did last year . it showed that you have that low-ish pumping function of your heart at about 45 % . and it also sh- shows some mitral regurgitation , that's that heart murmur that i heard , okay ?\n",
      "[doctor] um , hey , dragon , show me the lipid panel . so , looking at your lipid panel from last year , you know , everything , your cholesterol was like , a tiny bit high . but it was n't too , too bad , so i know you're trying to watch your diet . so , we'll repeat another one this year , okay ?\n",
      "[patient] okay .\n",
      "[doctor] um , so i wan na just go over a little bit about my assessment and my plan for you , okay ? so , for your first problem your congestive heart failure , um , i wan na continue you on your current medications . but i do wan na increase your lisinopril to 40 milligrams a day , just because your blood pressure's high . and you know , you are retaining a little bit of fluid . i also wan na start you on some lasix , you know , 20 milligrams a day . and have you continue to watch your , your diet , okay ?\n",
      "[patient] okay .\n",
      "[doctor] i also wan na repeat another echocardiogram , okay ?\n",
      "[patient] all right .\n",
      "[doctor] hey , dragon , order an echocardiogram . from a depression standpoint , it sounds like you're doing really well with that . so , i'm , i'm really happy for you . i'm , i'm glad to see that you're in therapy and you're doing really well . i do n't feel the need to start you on any medications this year , unless you feel differently .\n",
      "[patient] no , i feel the same way .\n",
      "[doctor] okay , all right . and then for your last problem your hypertension , you know , again i , i , i think it's out of control . but we'll see , i think , you know , i'd like to see you take the lisinopril as directed , okay ? uh , i want you to record your blood pressures within the patient , you know , take your blood pressure every day . record them to me for like , about a week , so i have to see if we have to add another agent , okay ? 'cause we need to get that under better control for your heart failure to be more successful , okay ?\n",
      "[patient] okay .\n",
      "[doctor] do you have any questions ? , and i forgot . for your annual exam , you're due for a mammogram , so we have to schedule for that , as well , okay ?\n",
      "[patient] okay .\n",
      "[doctor] okay . do you have any questions ?\n",
      "[patient] can i take all my pills at the same time ?\n",
      "[doctor] yeah .\n",
      "[patient] 'cause i've been trying to take them at different times of the day , 'cause i did n't know if it was bad to take them all at once or i should separate them . i do n't know .\n",
      "[doctor] yeah . you can certainly take them , you know , all at the same time , as long , as yeah , they're all one scale . you can take them all at the same time . just set an alarm-\n",
      "[patient] okay .\n",
      "[doctor] . some time during the day to take them , okay ?\n",
      "[patient] that might help me remember better .\n",
      "[doctor] all right . that sounds good . all right , well , it's good to see you .\n",
      "[patient] good seeing you too .\n",
      "[doctor] hey , dragon , finalize the note .\n",
      "\n",
      "=== STRUCTURED CLINICAL NOTE ===\n",
      "CHIEF COMPLAINT\n",
      "\n",
      "Annual exam.\n",
      "\n",
      "HISTORY OF PRESENT ILLNESS\n",
      "\n",
      "Martha Collins is a 50-year-old female with a past medical history significant for congestive heart failure, depression, and hypertension who presents for her annual exam. It has been a year since I last saw the patient.\n",
      "\n",
      "The patient has been traveling a lot recently since things have gotten a bit better. She reports that she got her COVID-19 vaccine so she feels safer about traveling. She has been doing a lot of hiking.\n",
      "\n",
      "She reports that she is staying active. She has continued watching her diet and she is doing well with that. The patient states that she is avoiding salty foods that she likes to eat. She has continued utilizing her medications. The patient denies any chest pain, shortness of breath, or swelling in her legs.\n",
      "\n",
      "Regarding her depression, she reports that she has been going to therapy every week for the past year. This has been really helpful for her. She denies suicidal or homicidal ideation.\n",
      "\n",
      "The patient reports that she is still forgetting to take her blood pressure medication. She has noticed that when work gets more stressful, her blood pressure goes up. She reports that work has been going okay, but it has been a lot of long hours lately.\n",
      "\n",
      "She endorses some nasal congestion from some of the fall allergies. She denies any other symptoms of nausea, vomiting, abdominal pain.\n",
      "\n",
      "REVIEW OF SYSTEMS\n",
      "\n",
      "• Ears, Nose, Mouth and Throat: Endorses nasal congestion from allergies.\n",
      "• Cardiovascular: Denies chest pain or dyspnea on exertion.\n",
      "• Respiratory: Denies shortness of breath.\n",
      "• Gastrointestinal: Denies abdominal pain, nausea, or vomiting.\n",
      "• Psychiatric: Endorses depression. Denies suicidal or homicidal ideations.\n",
      "\n",
      "PHYSICAL EXAMINATION\n",
      "\n",
      "• Cardiovascular: Grade 3/6 systolic ejection murmur.\n",
      "1+ pitting edema of the bilateral lower extremities.\n",
      "\n",
      "VITALS REVIEWED\n",
      "\n",
      "• Blood Pressure: Elevated.\n",
      "\n",
      "RESULTS\n",
      "\n",
      "Echocardiogram demonstrates decreased ejection fraction of 45%. Mitral regurgitation is present.\n",
      "\n",
      "Lipid panel: Elevated cholesterol.\n",
      "\n",
      "ASSESSMENT AND PLAN\n",
      "\n",
      "Martha Collins is a 50-year-old female with a past medical history significant for congestive heart failure, depression, and hypertension who presents for her annual exam.\n",
      "\n",
      "Congestive heart failure.\n",
      "• Medical Reasoning: She has been compliant with her medication and dietary modifications. Her previous year's echocardiogram demonstrated a reduced ejection fraction of 45%, as well as some mitral regurgitation. Her cholesterol levels were slightly elevated on her lipid panel from last year.\n",
      "• Additional Testing: We will order a repeat echocardiogram. We will also repeat a lipid panel this year.\n",
      "• Medical Treatment: She will continue with her current medications. We will increase her lisinopril to 40 mg daily and initiate Lasix 20 mg daily.\n",
      "• Patient Education and Counseling: I encouraged her to continue with dietary modifications.\n",
      "\n",
      "Depression.\n",
      "• Medical Reasoning: She is doing well with weekly therapy.\n",
      "\n",
      "Hypertension.\n",
      "• Medical Reasoning: She has been compliant with dietary modifications but has been inconsistent with the use of her medication. She attributes elevations in her blood pressure to increased stress.\n",
      "• Medical Treatment: We will increase her lisinopril to 40 mg daily as noted above.\n",
      "• Patient Education and Counseling: I encouraged the patient to take her lisinopril as directed. I advised her to monitor her blood pressures at home for the next week and report them to me.\n",
      "\n",
      "Healthcare maintenance.\n",
      "• Medical Reasoning: The patient is due for her routine mammogram.\n",
      "• Additional Testing: We will order a mammogram and have this scheduled for her.\n",
      "\n",
      "Patient Agreements: The patient understands and agrees with the recommended medical treatment plan.\n",
      "\n"
     ]
    }
   ],
   "source": [
    "sample = df.iloc[0]\n",
    "print(\"\\n=== DOCTOR–PATIENT CONVERSATION ===\")\n",
    "print(sample['dialogue'])\n",
    "dialogue=sample['dialogue']\n",
    "print(\"\\n=== STRUCTURED CLINICAL NOTE ===\")\n",
    "print(sample['note']) \n",
    "note=sample['note']"
   ]
  },
  {
   "cell_type": "code",
   "execution_count": 3,
   "id": "44c54a94-8f4c-4214-ba47-97c0421fb4c6",
   "metadata": {},
   "outputs": [],
   "source": [
    "apikey=\"apikey\""
   ]
  },
  {
   "cell_type": "markdown",
   "id": "80a11f17-5c99-49a8-be9f-0ef6dc5c1f42",
   "metadata": {},
   "source": [
    "## ✏️ Step 4 — Define Prompt Template for SOAP Note Generation\n",
    "\n",
    "In this cell, we write a detailed system prompt.\n",
    "It instructs the LLM to behave as a professional medical scribe and convert natural doctor–patient conversations into formal SOAP notes.\n",
    "The prompt includes strong constraints to reduce hallucinations, preserve factual consistency, and enforce a clear structure.\n",
    "We also embed a few high-quality example notes to guide the model (few-shot prompting).By tyring different prompt the best prompt is chosen. "
   ]
  },
  {
   "cell_type": "code",
   "execution_count": 29,
   "id": "13eed1ac-aa88-47d7-a72c-5ce41bf0a9ba",
   "metadata": {},
   "outputs": [],
   "source": [
    "dialogue = sample['dialogue']\n",
    "\n",
    "system_content = \"\"\"\n",
    "You are a professional medical scribe.\n",
    "Your job is to convert doctor–patient conversations into detailed, structured SOAP notes.\n",
    "First, read the conversation carefully.\n",
    "Finally, write the SOAP note with sections, write like medical professional\n",
    "Avoid hallucinations\n",
    "-Include all reported symptoms, findings, medications, and durations mentioned.\n",
    "- NEVER fabricate labs, medications, or vital signs not clearly stated.\n",
    "- Omit sections ONLY if there is no data available.\n",
    "Always use this exact format:\n",
    "\n",
    "- CHIEF COMPLAINT:\n",
    "- HISTORY OF PRESENT ILLNESS:\n",
    "- REVIEW OF SYSTEMS:\n",
    "- PHYSICAL EXAMINATION:\n",
    "- VITALS REVIEWED:\n",
    "- RESULTS:\n",
    "- ASSESSMENT AND PLAN:\n",
    "-INSTRUCTIONS\n",
    "\n",
    "Do NOT repeat sentences.\n",
    "Do NOT invent information not in the dialogue.\n",
    "Write clear, full medical sentences.\n",
    "Example1:\n",
    "CHIEF COMPLAINT\n",
    "\n",
    "Back pain.\n",
    "\n",
    "HISTORY OF PRESENT ILLNESS\n",
    "\n",
    "Mr. John Perry is a 61-year-old male with a past medical history significant for kidney stones, migraines, and gastroesophageal reflux, who presents with some back pain.\n",
    "\n",
    "The patient reports that he is feeling a lot of the same pain that he had when he had kidney stones about 2 years ago, so he is a little concerned. The pain started from the right side and moved over and he feels it on the left side of his back. This has been going on for the last 4 days. Initially, the pain was intermittent, but over the last 48 hours it has been constant. He has taken Tylenol, but it does not seem to help. He thinks he has hematuria, but it is hard to detect but it does look a little off color. He endorses nausea and vomiting if he exerts himself or climbs the stairs to his apartment or runs to catch the bus. He also endorses dizziness and lightheadedness with pain in his abdomen.\n",
    "\n",
    "Regarding his migraines, he has been diligent about taking the Imitrex. He denies issues with the migraines.\n",
    "\n",
    "Regarding his gastroesophageal reflux, he reports that he has been doing well with his diet, but notes lately with his pain, he has been eating more fast food and takeout since these options come with delivery. He is staying hydrated. He is taking Protonix 40 mg daily as directed.\n",
    "\n",
    "REVIEW OF SYSTEMS\n",
    "\n",
    "    Gastrointestinal: Endorses abdominal pain. Endorses nausea and vomiting with exertion.\n",
    "    Genitourinary: Endorses urine discoloration.\n",
    "    Musculoskeletal: Endorses back pain. Endorses body aches.\n",
    "    Neurological: Denies headaches. Endorses dizziness and lightheadedness.\n",
    "\n",
    "PHYSICAL EXAMINATION\n",
    "\n",
    "    Respiratory: Lungs are clear to auscultation bilaterally. No wheezes, rales, or rhonchi.\n",
    "    Cardiovascular: No murmurs, gallops, or rubs. No extra heart sounds.\n",
    "    Gastrointestinal: Tender to palpation to the right lower quadrant. CVA tenderness on the right.\n",
    "\n",
    "VITALS REVIEWED\n",
    "\n",
    "    Blood Pressure: Elevated.\n",
    "\n",
    "RESULTS\n",
    "\n",
    "Creatinine level slightly elevated.\n",
    "Abdominal x-ray demonstrates possible kidney stone.\n",
    "\n",
    "ASSESSMENT AND PLAN\n",
    "\n",
    "Mr. John Perry is a 61-year-old male with a past medical history significant for kidney stones, migraines, and gastroesophageal reflux, who presents with back pain.\n",
    "\n",
    "Kidney stones.\n",
    "    Medical Reasoning: He is experiencing pain in his back that is similar to his previous kidney stone pain. His recent abdominal x-ray demonstrates what appears to be a recurrent kidney stone.\n",
    "    Additional Testing: I have ordered a CT scan of the abdomen and pelvis without contrast.\n",
    "    Medical Treatment: We will start him on Ultram 50 mg as needed every 6 hours for pain.\n",
    "    Patient Education and Counseling: I advised the patient to stay well hydrated and to strain his urine.\n",
    "\n",
    "Migraines.\n",
    "    Medical Reasoning: He has been compliant with Imitrex and is doing well at this time.\n",
    "    Medical Treatment: Continue Imitrex.\n",
    "\n",
    "Reflux.\n",
    "    Medical Reasoning: This is typically well-controlled with dietary modifications.\n",
    "    Medical Treatment: Continue with Protonix 40 mg daily. A refill was provided.\n",
    "\n",
    "Patient Agreements: The patient understands and agrees with the recommended medical treatment plan.\n",
    "Example2:\n",
    "CHIEF COMPLAINT\n",
    "\n",
    "Hospital follow-up after an anterior STEMI.\n",
    "\n",
    "MEDICAL HISTORY\n",
    "\n",
    "Patient reports history of CAD status post prior RCA stent in 2018, hypertension, and diabetes mellitus.\n",
    "\n",
    "SURGICAL HISTORY\n",
    "\n",
    "Patient reports history of RCA stent in 2018 and most recently underwent drug-eluting stent placement in the LAD.\n",
    "\n",
    "SOCIAL HISTORY\n",
    "\n",
    "Patient reports enjoying walking outside, gardening, and nature photography.\n",
    "\n",
    "MEDICATIONS\n",
    "\n",
    "Patient reports taking aspirin 81 mg daily, Brilinta 90 mg twice a day, Lipitor 80 mg daily, Toprol 50 mg daily, and lisinopril 20 mg a day.\n",
    "\n",
    "REVIEW OF SYSTEMS\n",
    "\n",
    "Constitutional: Reports fatigue. Denies changes in sleep.\n",
    "Cardiovascular: Denies chest pain.\n",
    "Respiratory: Denies shortness of breath.\n",
    "Musculoskeletal: Denies lower extremity swelling.\n",
    "\n",
    "VITALS\n",
    "\n",
    "Vital signs look good today.\n",
    "\n",
    "PHYSICAL EXAM\n",
    "\n",
    "Neck\n",
    "- General Examination: No carotid bruits.\n",
    "\n",
    "Respiratory\n",
    "- Auscultation of Lungs: Clear bilaterally.\n",
    "\n",
    "Cardiovascular\n",
    "- Auscultation of Heart: Grade 3/6 systolic ejection murmur, heard at the left base.\n",
    "\n",
    "Musculoskeletal\n",
    "- Examination of the right upper extremity reveals no swelling or edema on the right radial artery. Cath site is clean, dry, and intact. No hematoma. Palpable right radial artery pulse.\n",
    "\n",
    "RESULTS\n",
    "\n",
    "Electrocardiogram is reviewed and revealed normal sinus rhythm with good R wave progression and evolutionary changes, which are anticipated.\n",
    "\n",
    "ASSESSMENT AND PLAN\n",
    "\n",
    "1. Coronary artery disease.\n",
    "- Medical Reasoning: The patient's exam is consistent with coronary artery disease.\n",
    "- Patient Education and Counseling: We discussed that he should continue to watch his diet and salt intake. We also discussed that the cardiac rehab should help with his confidence with exercising regularly and for his education.\n",
    "- Medical Treatment: Continue taking aspirin 81 mg daily Continue taking Brilinta 90 mg twice a day. Continue taking Lipitor 80 mg daily. Continue taking Toprol 50 mg daily. I will refer him to cardiac rehab.\n",
    "\n",
    "2. Newly reduced left ventricular dysfunction and moderate mitral regurgitation.\n",
    "- Medical Reasoning: The patient's physical exam is consistent with this diagnosis.\n",
    "- Patient Education and Counseling: We discussed that his pumping function should improve in time. We also discussed that since he is compliant with his medications and presented to the cardiac cath lab quickly, he should recover. I advised the patient that he does not need to start a diuretic at this time.\n",
    "- Medical Treatment: Continue taking lisinopril 20 mg a day. Prescription for Aldactone 12.5 mg daily provided. Order for labs provided. Repeat echocardiogram ordered to be completed in 2 months.\n",
    "\n",
    "3. Hypertension.\n",
    "- Medical Reasoning: This seems stable at this time.\n",
    "- Medical Treatment: Continue home blood pressure monitoring.\n",
    "\n",
    "Patient Agreements: The patient understands and agrees with the recommended medical treatment plan.\n",
    "\n",
    "Example3:\n",
    "CHIEF COMPLAINT\n",
    "\n",
    "Kidney stones.\n",
    "\n",
    "HISTORY OF PRESENT ILLNESS\n",
    "\n",
    "Mason Ward is a pleasant 80-year-old male who presents to the clinic today for the evaluation of kidney stones. The patient was referred from his primary care physician. The onset of his pain began 1 week ago when he was in his barn moving hay when he had a sudden onset of right back pain. The patient initially thought his pain was due to throwing hay; however, he broke out into a sweat and became nauseated. He was seen by his primary care physician, who ordered a CT scan and told him that he had a kidney stone. He denies having kidney stones before, but states that his father has a history of kidney stones in the past. He explains that when he had pain, which has now resolved, it would radiate almost to his groin. The patient describes the pain as intermittent after he found out it was a kidney stone. He explains that he has been straining his urine, but has not seen anything. He denies any hematuria.\n",
    "\n",
    "REVIEW OF SYSTEMS\n",
    "\n",
    "Musculoskeletal: Reports right back pain.\n",
    "\n",
    "VITALS\n",
    "\n",
    "Vitals look good, blood pressure and hear rate are within normal limits. Temperature is within normal limits.\n",
    "\n",
    "PHYSICAL EXAM\n",
    "\n",
    "MSK: Examination of the abdomen: No pain with palpation of the abdomen. No rebound or guarding. There is CVA tenderness on the right side.\n",
    "\n",
    "RESULTS\n",
    "\n",
    "The CT scan of the abdomen revealed a stone that is measuring 0.5 cm located in the proximal right ureter. There is no evidence of hydronephrosis.\n",
    "\n",
    "ASSESSMENT\n",
    "\n",
    "Right kidney stone.\n",
    "\n",
    "PLAN\n",
    "\n",
    "We reviewed the patient's CT results in detail today. I have recommended that we treat the patient conservatively. I have prescribed the patient oxycodone 5 mg every 6 to 8 hours for pain. He may continue to take Tylenol between the oxycodone doses for any breakthrough pain. The patient should continue to use the strainer when he urinates until the stone passes. I have also recommended that we obtain a BMP, urinalysis, and urine culture to evaluate for any signs of infection.\n",
    "\n",
    "INSTRUCTIONS\n",
    "\n",
    "The patient will follow up with me in 1 to 2 weeks to check on his progress. If his symptoms have not improved, we will discuss further treatment options including lithotripsy.\n",
    "\n",
    "\"\"\"\n",
    "\n",
    "user_content = f\"\"\"\n",
    "Below is a real doctor–patient conversation.\n",
    "\n",
    "Write the SOAP note in the exact format.\n",
    "\n",
    "Conversation:\n",
    "{dialogue}\n",
    "\n",
    "SOAP Note:\n",
    "\"\"\"\n"
   ]
  },
  {
   "cell_type": "markdown",
   "id": "8ff3f874-69ba-4625-a32b-ff19525948d6",
   "metadata": {},
   "source": [
    "## 📝 Step 5 — Generate SOAP Note for a Single Example\n",
    "\n",
    "We test the LLM by sending one real conversation and receiving the generated SOAP note.\n",
    "This helps us validate that:\n",
    "- The prompt format is effective.\n",
    "- The LLM respects medical conventions.\n",
    "- The output is well-structured.\n",
    "We print the result to manually inspect its coherence, faithfulness, and format.\n"
   ]
  },
  {
   "cell_type": "code",
   "execution_count": 19,
   "id": "8e735e52-51b6-4f71-acea-cfda78a1ab93",
   "metadata": {},
   "outputs": [
    {
     "name": "stdout",
     "output_type": "stream",
     "text": [
      "\n",
      "=== GENERATED SOAP NOTE ===\n",
      "Here is the SOAP note in the exact format:\n",
      "\n",
      "CHIEF COMPLAINT:\n",
      "\n",
      "Annual exam.\n",
      "\n",
      "HISTORY OF PRESENT ILLNESS:\n",
      "\n",
      "Martha, a 50-year-old female with a past medical history significant for congestive heart failure, depression, and hypertension, presents for her annual exam. She reports doing well, having traveled recently, and getting her vaccine, which makes her feel safer about traveling. She has been doing a lot of hiking, including a recent trip to Washington to hike in the northern Cascades.\n",
      "\n",
      "REVIEW OF SYSTEMS:\n",
      "\n",
      "Constitutional: Denies fatigue.\n",
      "Cardiovascular: Reports no chest pains, shortness of breath, or swelling in her legs.\n",
      "Respiratory: Endorses nasal congestion from fall pollen and allergies.\n",
      "Gastrointestinal: Denies nausea, vomiting, or abdominal pain.\n",
      "Neurological: No issues, no feelings of wanting to harm herself or others.\n",
      "\n",
      "PHYSICAL EXAMINATION:\n",
      "\n",
      "Cardiovascular: Appreciates a 3 out of 6 systolic ejection murmur, heard at the apex.\n",
      "Lower Extremities: Appreciates 1+ pitting edema.\n",
      "\n",
      "VITALS REVIEWED:\n",
      "\n",
      "Blood pressure is elevated.\n",
      "\n",
      "RESULTS:\n",
      "\n",
      "Echocardiogram reveals a low-ish pumping function of the heart at about 45% and mitral regurgitation.\n",
      "Lipid panel shows cholesterol is a tiny bit high.\n",
      "\n",
      "ASSESSMENT AND PLAN:\n",
      "\n",
      "1. Congestive heart failure.\n",
      "   Medical Reasoning: Patient's blood pressure is high, and she is retaining fluid.\n",
      "   Medical Treatment: Continue current medications, increase lisinopril to 40 mg daily, and start lasix 20 mg daily. Repeat echocardiogram.\n",
      "   Patient Education and Counseling: Continue to watch her diet.\n",
      "\n",
      "2. Depression.\n",
      "   Medical Reasoning: Patient is doing well with therapy.\n",
      "   Medical Treatment: Continue therapy.\n",
      "   Patient Education and Counseling: No medication is needed at this time.\n",
      "\n",
      "3. Hypertension.\n",
      "   Medical Reasoning: Patient's blood pressure is high.\n",
      "   Medical Treatment: Increase lisinopril to 40 mg daily, record blood pressure daily, and consider adding another agent.\n",
      "   Patient Education and Counseling: Take medications as directed, record blood pressure for a week.\n",
      "\n",
      "INSTRUCTIONS:\n",
      "\n",
      "The patient will follow up in 1 year for another annual exam. She is due for a mammogram, which will be scheduled. She can take all her pills at the same time, as long as they are all one scale.\n"
     ]
    }
   ],
   "source": [
    "from openai import OpenAI\n",
    "\n",
    "client = OpenAI(\n",
    "    api_key=apikey\n",
    ")\n",
    "client.base_url = \"https://openrouter.ai/api/v1\"\n",
    "response = client.chat.completions.create(\n",
    "    model=\"meta-llama/llama-3-70b-instruct\",\n",
    "    messages=[\n",
    "        {\"role\": \"system\", \"content\": system_content},\n",
    "        {\"role\": \"user\", \"content\": user_content},\n",
    "    ],\n",
    ")\n",
    "generated_note = response.choices[0].message.content\n",
    "\n",
    "print(\"\\n=== GENERATED SOAP NOTE ===\")\n",
    "print(generated_note)\n"
   ]
  },
  {
   "cell_type": "code",
   "execution_count": 20,
   "id": "9456f693-5bff-41c6-849f-618aa20d7d0e",
   "metadata": {},
   "outputs": [
    {
     "name": "stdout",
     "output_type": "stream",
     "text": [
      "BLEU: {'bleu': 0.1656177855922421, 'precisions': [0.7222222222222222, 0.38498789346246975, 0.23300970873786409, 0.145985401459854], 'brevity_penalty': 0.5310759470298738, 'length_ratio': 0.6124260355029586, 'translation_length': 414, 'reference_length': 676}\n",
      "ROUGE: {'rouge1': 0.5398230088495576, 'rouge2': 0.27272727272727276, 'rougeL': 0.3716814159292035, 'rougeLsum': 0.5243362831858406}\n"
     ]
    },
    {
     "name": "stderr",
     "output_type": "stream",
     "text": [
      "Some weights of RobertaModel were not initialized from the model checkpoint at roberta-large and are newly initialized: ['roberta.pooler.dense.bias', 'roberta.pooler.dense.weight']\n",
      "You should probably TRAIN this model on a down-stream task to be able to use it for predictions and inference.\n"
     ]
    },
    {
     "name": "stdout",
     "output_type": "stream",
     "text": [
      "calculating scores...\n",
      "computing bert embedding.\n"
     ]
    },
    {
     "data": {
      "application/vnd.jupyter.widget-view+json": {
       "model_id": "568b0d5097134be8a941615246291ced",
       "version_major": 2,
       "version_minor": 0
      },
      "text/plain": [
       "  0%|          | 0/1 [00:00<?, ?it/s]"
      ]
     },
     "metadata": {},
     "output_type": "display_data"
    },
    {
     "name": "stdout",
     "output_type": "stream",
     "text": [
      "computing greedy matching.\n"
     ]
    },
    {
     "data": {
      "application/vnd.jupyter.widget-view+json": {
       "model_id": "7f1d3d51ea9249f69f2308ab424c8025",
       "version_major": 2,
       "version_minor": 0
      },
      "text/plain": [
       "  0%|          | 0/1 [00:00<?, ?it/s]"
      ]
     },
     "metadata": {},
     "output_type": "display_data"
    },
    {
     "name": "stdout",
     "output_type": "stream",
     "text": [
      "done in 0.47 seconds, 2.14 sentences/sec\n",
      "BERTScore F1: 0.8739206194877625\n"
     ]
    }
   ],
   "source": [
    "import evaluate\n",
    "\n",
    "bleu = evaluate.load(\"bleu\")\n",
    "rouge = evaluate.load(\"rouge\")\n",
    "from bert_score import score\n",
    "pred = generated_note\n",
    "ref = sample['note']\n",
    "\n",
    "# BLEU wants tokenized lists:\n",
    "bleu_result = bleu.compute(predictions=[pred], references=[ref])\n",
    "print(\"BLEU:\", bleu_result)\n",
    "\n",
    "# ROUGE:\n",
    "rouge_result = rouge.compute(predictions=[pred], references=[ref])\n",
    "print(\"ROUGE:\", rouge_result)\n",
    "\n",
    "# BERTScore:\n",
    "P, R, F1 = score([pred], [ref], lang=\"en\", verbose=True)\n",
    "print(\"BERTScore F1:\", F1.mean().item())\n"
   ]
  },
  {
   "cell_type": "code",
   "execution_count": null,
   "id": "2f5cc112-1f58-4d0d-a788-f5ae122ad139",
   "metadata": {},
   "outputs": [],
   "source": []
  },
  {
   "cell_type": "code",
   "execution_count": null,
   "id": "f314a2f6-1d3a-4f8a-9680-33393f71da71",
   "metadata": {},
   "outputs": [],
   "source": []
  },
  {
   "cell_type": "code",
   "execution_count": null,
   "id": "00816407-a452-42a4-9a8a-2d4c1084d026",
   "metadata": {},
   "outputs": [],
   "source": []
  },
  {
   "cell_type": "code",
   "execution_count": null,
   "id": "1f3a8caf-1b93-4c54-852c-58a8447a3d5b",
   "metadata": {},
   "outputs": [],
   "source": []
  },
  {
   "cell_type": "code",
   "execution_count": null,
   "id": "f08bb185-8341-4221-b773-edde6f14a112",
   "metadata": {},
   "outputs": [],
   "source": []
  },
  {
   "cell_type": "markdown",
   "id": "67666477-1bf2-40a7-8d9d-178c1275fc8e",
   "metadata": {},
   "source": [
    "## 🔄 Batch Generate SOAP Notes\n",
    "\n",
    "Here we loop through multiple samples in the dataset.\n",
    "For each, we send the conversation to the LLM and generate a structured SOAP note.\n",
    "This enables large-scale evaluation, as we can compare the generated notes with the ground truth across multiple test cases.\n",
    "This loop also stores each output for later scoring.\n"
   ]
  },
  {
   "cell_type": "code",
   "execution_count": 31,
   "id": "13d0573f-c803-46fe-a7fd-e68ccb80a10f",
   "metadata": {},
   "outputs": [
    {
     "name": "stderr",
     "output_type": "stream",
     "text": [
      "Some weights of RobertaModel were not initialized from the model checkpoint at roberta-large and are newly initialized: ['roberta.pooler.dense.bias', 'roberta.pooler.dense.weight']\n",
      "You should probably TRAIN this model on a down-stream task to be able to use it for predictions and inference.\n"
     ]
    },
    {
     "name": "stdout",
     "output_type": "stream",
     "text": [
      "✅ Done: Sample 0 | BLEU: 0.1845 | ROUGE-L: 0.3651 | BERTScore-F1: 0.8835\n"
     ]
    },
    {
     "name": "stderr",
     "output_type": "stream",
     "text": [
      "Some weights of RobertaModel were not initialized from the model checkpoint at roberta-large and are newly initialized: ['roberta.pooler.dense.bias', 'roberta.pooler.dense.weight']\n",
      "You should probably TRAIN this model on a down-stream task to be able to use it for predictions and inference.\n"
     ]
    },
    {
     "name": "stdout",
     "output_type": "stream",
     "text": [
      "✅ Done: Sample 1 | BLEU: 0.1386 | ROUGE-L: 0.3542 | BERTScore-F1: 0.8802\n"
     ]
    },
    {
     "name": "stderr",
     "output_type": "stream",
     "text": [
      "Some weights of RobertaModel were not initialized from the model checkpoint at roberta-large and are newly initialized: ['roberta.pooler.dense.bias', 'roberta.pooler.dense.weight']\n",
      "You should probably TRAIN this model on a down-stream task to be able to use it for predictions and inference.\n"
     ]
    },
    {
     "name": "stdout",
     "output_type": "stream",
     "text": [
      "✅ Done: Sample 2 | BLEU: 0.2543 | ROUGE-L: 0.4523 | BERTScore-F1: 0.8789\n"
     ]
    },
    {
     "name": "stderr",
     "output_type": "stream",
     "text": [
      "Some weights of RobertaModel were not initialized from the model checkpoint at roberta-large and are newly initialized: ['roberta.pooler.dense.bias', 'roberta.pooler.dense.weight']\n",
      "You should probably TRAIN this model on a down-stream task to be able to use it for predictions and inference.\n"
     ]
    },
    {
     "name": "stdout",
     "output_type": "stream",
     "text": [
      "✅ Done: Sample 3 | BLEU: 0.1160 | ROUGE-L: 0.3197 | BERTScore-F1: 0.8727\n"
     ]
    },
    {
     "name": "stderr",
     "output_type": "stream",
     "text": [
      "Some weights of RobertaModel were not initialized from the model checkpoint at roberta-large and are newly initialized: ['roberta.pooler.dense.bias', 'roberta.pooler.dense.weight']\n",
      "You should probably TRAIN this model on a down-stream task to be able to use it for predictions and inference.\n"
     ]
    },
    {
     "name": "stdout",
     "output_type": "stream",
     "text": [
      "✅ Done: Sample 4 | BLEU: 0.1916 | ROUGE-L: 0.4548 | BERTScore-F1: 0.8811\n"
     ]
    },
    {
     "name": "stderr",
     "output_type": "stream",
     "text": [
      "Some weights of RobertaModel were not initialized from the model checkpoint at roberta-large and are newly initialized: ['roberta.pooler.dense.bias', 'roberta.pooler.dense.weight']\n",
      "You should probably TRAIN this model on a down-stream task to be able to use it for predictions and inference.\n"
     ]
    },
    {
     "name": "stdout",
     "output_type": "stream",
     "text": [
      "✅ Done: Sample 5 | BLEU: 0.1835 | ROUGE-L: 0.3704 | BERTScore-F1: 0.8668\n"
     ]
    },
    {
     "name": "stderr",
     "output_type": "stream",
     "text": [
      "Some weights of RobertaModel were not initialized from the model checkpoint at roberta-large and are newly initialized: ['roberta.pooler.dense.bias', 'roberta.pooler.dense.weight']\n",
      "You should probably TRAIN this model on a down-stream task to be able to use it for predictions and inference.\n"
     ]
    },
    {
     "name": "stdout",
     "output_type": "stream",
     "text": [
      "✅ Done: Sample 6 | BLEU: 0.1768 | ROUGE-L: 0.3660 | BERTScore-F1: 0.8754\n"
     ]
    },
    {
     "name": "stderr",
     "output_type": "stream",
     "text": [
      "Some weights of RobertaModel were not initialized from the model checkpoint at roberta-large and are newly initialized: ['roberta.pooler.dense.bias', 'roberta.pooler.dense.weight']\n",
      "You should probably TRAIN this model on a down-stream task to be able to use it for predictions and inference.\n"
     ]
    },
    {
     "name": "stdout",
     "output_type": "stream",
     "text": [
      "✅ Done: Sample 7 | BLEU: 0.1038 | ROUGE-L: 0.2701 | BERTScore-F1: 0.8619\n"
     ]
    },
    {
     "name": "stderr",
     "output_type": "stream",
     "text": [
      "Some weights of RobertaModel were not initialized from the model checkpoint at roberta-large and are newly initialized: ['roberta.pooler.dense.bias', 'roberta.pooler.dense.weight']\n",
      "You should probably TRAIN this model on a down-stream task to be able to use it for predictions and inference.\n"
     ]
    },
    {
     "name": "stdout",
     "output_type": "stream",
     "text": [
      "✅ Done: Sample 8 | BLEU: 0.1782 | ROUGE-L: 0.3549 | BERTScore-F1: 0.8511\n"
     ]
    },
    {
     "name": "stderr",
     "output_type": "stream",
     "text": [
      "Some weights of RobertaModel were not initialized from the model checkpoint at roberta-large and are newly initialized: ['roberta.pooler.dense.bias', 'roberta.pooler.dense.weight']\n",
      "You should probably TRAIN this model on a down-stream task to be able to use it for predictions and inference.\n"
     ]
    },
    {
     "name": "stdout",
     "output_type": "stream",
     "text": [
      "✅ Done: Sample 9 | BLEU: 0.1342 | ROUGE-L: 0.2939 | BERTScore-F1: 0.8831\n"
     ]
    },
    {
     "name": "stderr",
     "output_type": "stream",
     "text": [
      "Some weights of RobertaModel were not initialized from the model checkpoint at roberta-large and are newly initialized: ['roberta.pooler.dense.bias', 'roberta.pooler.dense.weight']\n",
      "You should probably TRAIN this model on a down-stream task to be able to use it for predictions and inference.\n"
     ]
    },
    {
     "name": "stdout",
     "output_type": "stream",
     "text": [
      "✅ Done: Sample 10 | BLEU: 0.1879 | ROUGE-L: 0.4326 | BERTScore-F1: 0.8847\n"
     ]
    },
    {
     "name": "stderr",
     "output_type": "stream",
     "text": [
      "Some weights of RobertaModel were not initialized from the model checkpoint at roberta-large and are newly initialized: ['roberta.pooler.dense.bias', 'roberta.pooler.dense.weight']\n",
      "You should probably TRAIN this model on a down-stream task to be able to use it for predictions and inference.\n"
     ]
    },
    {
     "name": "stdout",
     "output_type": "stream",
     "text": [
      "✅ Done: Sample 11 | BLEU: 0.1901 | ROUGE-L: 0.3989 | BERTScore-F1: 0.8981\n"
     ]
    },
    {
     "name": "stderr",
     "output_type": "stream",
     "text": [
      "Some weights of RobertaModel were not initialized from the model checkpoint at roberta-large and are newly initialized: ['roberta.pooler.dense.bias', 'roberta.pooler.dense.weight']\n",
      "You should probably TRAIN this model on a down-stream task to be able to use it for predictions and inference.\n"
     ]
    },
    {
     "name": "stdout",
     "output_type": "stream",
     "text": [
      "✅ Done: Sample 12 | BLEU: 0.1414 | ROUGE-L: 0.2737 | BERTScore-F1: 0.8566\n"
     ]
    },
    {
     "name": "stderr",
     "output_type": "stream",
     "text": [
      "Some weights of RobertaModel were not initialized from the model checkpoint at roberta-large and are newly initialized: ['roberta.pooler.dense.bias', 'roberta.pooler.dense.weight']\n",
      "You should probably TRAIN this model on a down-stream task to be able to use it for predictions and inference.\n"
     ]
    },
    {
     "name": "stdout",
     "output_type": "stream",
     "text": [
      "✅ Done: Sample 13 | BLEU: 0.1794 | ROUGE-L: 0.3623 | BERTScore-F1: 0.8736\n"
     ]
    },
    {
     "name": "stderr",
     "output_type": "stream",
     "text": [
      "Some weights of RobertaModel were not initialized from the model checkpoint at roberta-large and are newly initialized: ['roberta.pooler.dense.bias', 'roberta.pooler.dense.weight']\n",
      "You should probably TRAIN this model on a down-stream task to be able to use it for predictions and inference.\n"
     ]
    },
    {
     "name": "stdout",
     "output_type": "stream",
     "text": [
      "✅ Done: Sample 14 | BLEU: 0.1620 | ROUGE-L: 0.3455 | BERTScore-F1: 0.8787\n"
     ]
    },
    {
     "name": "stderr",
     "output_type": "stream",
     "text": [
      "Some weights of RobertaModel were not initialized from the model checkpoint at roberta-large and are newly initialized: ['roberta.pooler.dense.bias', 'roberta.pooler.dense.weight']\n",
      "You should probably TRAIN this model on a down-stream task to be able to use it for predictions and inference.\n"
     ]
    },
    {
     "name": "stdout",
     "output_type": "stream",
     "text": [
      "✅ Done: Sample 15 | BLEU: 0.2732 | ROUGE-L: 0.4763 | BERTScore-F1: 0.9066\n"
     ]
    },
    {
     "name": "stderr",
     "output_type": "stream",
     "text": [
      "Some weights of RobertaModel were not initialized from the model checkpoint at roberta-large and are newly initialized: ['roberta.pooler.dense.bias', 'roberta.pooler.dense.weight']\n",
      "You should probably TRAIN this model on a down-stream task to be able to use it for predictions and inference.\n"
     ]
    },
    {
     "name": "stdout",
     "output_type": "stream",
     "text": [
      "✅ Done: Sample 16 | BLEU: 0.1458 | ROUGE-L: 0.2967 | BERTScore-F1: 0.8721\n"
     ]
    },
    {
     "name": "stderr",
     "output_type": "stream",
     "text": [
      "Some weights of RobertaModel were not initialized from the model checkpoint at roberta-large and are newly initialized: ['roberta.pooler.dense.bias', 'roberta.pooler.dense.weight']\n",
      "You should probably TRAIN this model on a down-stream task to be able to use it for predictions and inference.\n"
     ]
    },
    {
     "name": "stdout",
     "output_type": "stream",
     "text": [
      "✅ Done: Sample 17 | BLEU: 0.2124 | ROUGE-L: 0.4708 | BERTScore-F1: 0.8759\n"
     ]
    },
    {
     "name": "stderr",
     "output_type": "stream",
     "text": [
      "Some weights of RobertaModel were not initialized from the model checkpoint at roberta-large and are newly initialized: ['roberta.pooler.dense.bias', 'roberta.pooler.dense.weight']\n",
      "You should probably TRAIN this model on a down-stream task to be able to use it for predictions and inference.\n"
     ]
    },
    {
     "name": "stdout",
     "output_type": "stream",
     "text": [
      "✅ Done: Sample 18 | BLEU: 0.0638 | ROUGE-L: 0.2636 | BERTScore-F1: 0.8574\n"
     ]
    },
    {
     "name": "stderr",
     "output_type": "stream",
     "text": [
      "Some weights of RobertaModel were not initialized from the model checkpoint at roberta-large and are newly initialized: ['roberta.pooler.dense.bias', 'roberta.pooler.dense.weight']\n",
      "You should probably TRAIN this model on a down-stream task to be able to use it for predictions and inference.\n"
     ]
    },
    {
     "name": "stdout",
     "output_type": "stream",
     "text": [
      "✅ Done: Sample 19 | BLEU: 0.1362 | ROUGE-L: 0.3301 | BERTScore-F1: 0.8591\n",
      "\n",
      "✅ All done! Results saved to: generated_notes_evaluation.csv\n"
     ]
    }
   ],
   "source": [
    "from openai import OpenAI\n",
    "import pandas as pd\n",
    "import evaluate\n",
    "from bert_score import score\n",
    "\n",
    "# Setup\n",
    "client = OpenAI(api_key=apikey)\n",
    "client.base_url = \"https://openrouter.ai/api/v1\"\n",
    "\n",
    "# Load data\n",
    "url = \"https://raw.githubusercontent.com/wyim/aci-bench/main/data/challenge_data/valid.csv\"\n",
    "df = pd.read_csv(url)\n",
    "bleu = evaluate.load(\"bleu\")\n",
    "rouge = evaluate.load(\"rouge\")\n",
    "\n",
    "num_samples = 20\n",
    "MODEL_ID = \"meta-llama/llama-3-70b-instruct\"\n",
    "results = []\n",
    "\n",
    "for idx in range(num_samples):\n",
    "    sample = df.iloc[idx]\n",
    "    dialogue = sample['dialogue']\n",
    "    reference = sample['note']\n",
    "\n",
    "    system_content = \"\"\"\n",
    "You are a professional medical scribe.\n",
    "Your job is to convert doctor–patient conversations into detailed, structured SOAP notes.\n",
    "First, read the conversation carefully.\n",
    "Finally, write the SOAP note with sections, write like medical professional\n",
    "Avoid hallucinations\n",
    "-Include all reported symptoms, findings, medications, and durations mentioned.\n",
    "- NEVER fabricate labs, medications, or vital signs not clearly stated.\n",
    "- Omit sections ONLY if there is no data available.\n",
    "Always use this exact format:\n",
    "\n",
    "- CHIEF COMPLAINT:\n",
    "- HISTORY OF PRESENT ILLNESS:\n",
    "- REVIEW OF SYSTEMS:\n",
    "- PHYSICAL EXAMINATION:\n",
    "- VITALS REVIEWED:\n",
    "- RESULTS:\n",
    "- ASSESSMENT AND PLAN:\n",
    "-INSTRUCTIONS\n",
    "\n",
    "Do NOT repeat sentences.\n",
    "Do NOT invent information not in the dialogue.\n",
    "Write clear, full medical sentences.\n",
    "Example1:\n",
    "CHIEF COMPLAINT\n",
    "\n",
    "Back pain.\n",
    "\n",
    "HISTORY OF PRESENT ILLNESS\n",
    "\n",
    "Mr. John Perry is a 61-year-old male with a past medical history significant for kidney stones, migraines, and gastroesophageal reflux, who presents with some back pain.\n",
    "\n",
    "The patient reports that he is feeling a lot of the same pain that he had when he had kidney stones about 2 years ago, so he is a little concerned. The pain started from the right side and moved over and he feels it on the left side of his back. This has been going on for the last 4 days. Initially, the pain was intermittent, but over the last 48 hours it has been constant. He has taken Tylenol, but it does not seem to help. He thinks he has hematuria, but it is hard to detect but it does look a little off color. He endorses nausea and vomiting if he exerts himself or climbs the stairs to his apartment or runs to catch the bus. He also endorses dizziness and lightheadedness with pain in his abdomen.\n",
    "\n",
    "Regarding his migraines, he has been diligent about taking the Imitrex. He denies issues with the migraines.\n",
    "\n",
    "Regarding his gastroesophageal reflux, he reports that he has been doing well with his diet, but notes lately with his pain, he has been eating more fast food and takeout since these options come with delivery. He is staying hydrated. He is taking Protonix 40 mg daily as directed.\n",
    "\n",
    "REVIEW OF SYSTEMS\n",
    "\n",
    "    Gastrointestinal: Endorses abdominal pain. Endorses nausea and vomiting with exertion.\n",
    "    Genitourinary: Endorses urine discoloration.\n",
    "    Musculoskeletal: Endorses back pain. Endorses body aches.\n",
    "    Neurological: Denies headaches. Endorses dizziness and lightheadedness.\n",
    "\n",
    "PHYSICAL EXAMINATION\n",
    "\n",
    "    Respiratory: Lungs are clear to auscultation bilaterally. No wheezes, rales, or rhonchi.\n",
    "    Cardiovascular: No murmurs, gallops, or rubs. No extra heart sounds.\n",
    "    Gastrointestinal: Tender to palpation to the right lower quadrant. CVA tenderness on the right.\n",
    "\n",
    "VITALS REVIEWED\n",
    "\n",
    "    Blood Pressure: Elevated.\n",
    "\n",
    "RESULTS\n",
    "\n",
    "Creatinine level slightly elevated.\n",
    "Abdominal x-ray demonstrates possible kidney stone.\n",
    "\n",
    "ASSESSMENT AND PLAN\n",
    "\n",
    "Mr. John Perry is a 61-year-old male with a past medical history significant for kidney stones, migraines, and gastroesophageal reflux, who presents with back pain.\n",
    "\n",
    "Kidney stones.\n",
    "    Medical Reasoning: He is experiencing pain in his back that is similar to his previous kidney stone pain. His recent abdominal x-ray demonstrates what appears to be a recurrent kidney stone.\n",
    "    Additional Testing: I have ordered a CT scan of the abdomen and pelvis without contrast.\n",
    "    Medical Treatment: We will start him on Ultram 50 mg as needed every 6 hours for pain.\n",
    "    Patient Education and Counseling: I advised the patient to stay well hydrated and to strain his urine.\n",
    "\n",
    "Migraines.\n",
    "    Medical Reasoning: He has been compliant with Imitrex and is doing well at this time.\n",
    "    Medical Treatment: Continue Imitrex.\n",
    "\n",
    "Reflux.\n",
    "    Medical Reasoning: This is typically well-controlled with dietary modifications.\n",
    "    Medical Treatment: Continue with Protonix 40 mg daily. A refill was provided.\n",
    "\n",
    "Patient Agreements: The patient understands and agrees with the recommended medical treatment plan.\n",
    "Example2:\n",
    "CHIEF COMPLAINT\n",
    "\n",
    "Hospital follow-up after an anterior STEMI.\n",
    "\n",
    "MEDICAL HISTORY\n",
    "\n",
    "Patient reports history of CAD status post prior RCA stent in 2018, hypertension, and diabetes mellitus.\n",
    "\n",
    "SURGICAL HISTORY\n",
    "\n",
    "Patient reports history of RCA stent in 2018 and most recently underwent drug-eluting stent placement in the LAD.\n",
    "\n",
    "SOCIAL HISTORY\n",
    "\n",
    "Patient reports enjoying walking outside, gardening, and nature photography.\n",
    "\n",
    "MEDICATIONS\n",
    "\n",
    "Patient reports taking aspirin 81 mg daily, Brilinta 90 mg twice a day, Lipitor 80 mg daily, Toprol 50 mg daily, and lisinopril 20 mg a day.\n",
    "\n",
    "REVIEW OF SYSTEMS\n",
    "\n",
    "Constitutional: Reports fatigue. Denies changes in sleep.\n",
    "Cardiovascular: Denies chest pain.\n",
    "Respiratory: Denies shortness of breath.\n",
    "Musculoskeletal: Denies lower extremity swelling.\n",
    "\n",
    "VITALS\n",
    "\n",
    "Vital signs look good today.\n",
    "\n",
    "PHYSICAL EXAM\n",
    "\n",
    "Neck\n",
    "- General Examination: No carotid bruits.\n",
    "\n",
    "Respiratory\n",
    "- Auscultation of Lungs: Clear bilaterally.\n",
    "\n",
    "Cardiovascular\n",
    "- Auscultation of Heart: Grade 3/6 systolic ejection murmur, heard at the left base.\n",
    "\n",
    "Musculoskeletal\n",
    "- Examination of the right upper extremity reveals no swelling or edema on the right radial artery. Cath site is clean, dry, and intact. No hematoma. Palpable right radial artery pulse.\n",
    "\n",
    "RESULTS\n",
    "\n",
    "Electrocardiogram is reviewed and revealed normal sinus rhythm with good R wave progression and evolutionary changes, which are anticipated.\n",
    "\n",
    "ASSESSMENT AND PLAN\n",
    "\n",
    "1. Coronary artery disease.\n",
    "- Medical Reasoning: The patient's exam is consistent with coronary artery disease.\n",
    "- Patient Education and Counseling: We discussed that he should continue to watch his diet and salt intake. We also discussed that the cardiac rehab should help with his confidence with exercising regularly and for his education.\n",
    "- Medical Treatment: Continue taking aspirin 81 mg daily Continue taking Brilinta 90 mg twice a day. Continue taking Lipitor 80 mg daily. Continue taking Toprol 50 mg daily. I will refer him to cardiac rehab.\n",
    "\n",
    "2. Newly reduced left ventricular dysfunction and moderate mitral regurgitation.\n",
    "- Medical Reasoning: The patient's physical exam is consistent with this diagnosis.\n",
    "- Patient Education and Counseling: We discussed that his pumping function should improve in time. We also discussed that since he is compliant with his medications and presented to the cardiac cath lab quickly, he should recover. I advised the patient that he does not need to start a diuretic at this time.\n",
    "- Medical Treatment: Continue taking lisinopril 20 mg a day. Prescription for Aldactone 12.5 mg daily provided. Order for labs provided. Repeat echocardiogram ordered to be completed in 2 months.\n",
    "\n",
    "3. Hypertension.\n",
    "- Medical Reasoning: This seems stable at this time.\n",
    "- Medical Treatment: Continue home blood pressure monitoring.\n",
    "\n",
    "Patient Agreements: The patient understands and agrees with the recommended medical treatment plan.\n",
    "\n",
    "Example3:\n",
    "CHIEF COMPLAINT\n",
    "\n",
    "Kidney stones.\n",
    "\n",
    "HISTORY OF PRESENT ILLNESS\n",
    "\n",
    "Mason Ward is a pleasant 80-year-old male who presents to the clinic today for the evaluation of kidney stones. The patient was referred from his primary care physician. The onset of his pain began 1 week ago when he was in his barn moving hay when he had a sudden onset of right back pain. The patient initially thought his pain was due to throwing hay; however, he broke out into a sweat and became nauseated. He was seen by his primary care physician, who ordered a CT scan and told him that he had a kidney stone. He denies having kidney stones before, but states that his father has a history of kidney stones in the past. He explains that when he had pain, which has now resolved, it would radiate almost to his groin. The patient describes the pain as intermittent after he found out it was a kidney stone. He explains that he has been straining his urine, but has not seen anything. He denies any hematuria.\n",
    "\n",
    "REVIEW OF SYSTEMS\n",
    "\n",
    "Musculoskeletal: Reports right back pain.\n",
    "\n",
    "VITALS\n",
    "\n",
    "Vitals look good, blood pressure and hear rate are within normal limits. Temperature is within normal limits.\n",
    "\n",
    "PHYSICAL EXAM\n",
    "\n",
    "MSK: Examination of the abdomen: No pain with palpation of the abdomen. No rebound or guarding. There is CVA tenderness on the right side.\n",
    "\n",
    "RESULTS\n",
    "\n",
    "The CT scan of the abdomen revealed a stone that is measuring 0.5 cm located in the proximal right ureter. There is no evidence of hydronephrosis.\n",
    "\n",
    "ASSESSMENT\n",
    "\n",
    "Right kidney stone.\n",
    "\n",
    "PLAN\n",
    "\n",
    "We reviewed the patient's CT results in detail today. I have recommended that we treat the patient conservatively. I have prescribed the patient oxycodone 5 mg every 6 to 8 hours for pain. He may continue to take Tylenol between the oxycodone doses for any breakthrough pain. The patient should continue to use the strainer when he urinates until the stone passes. I have also recommended that we obtain a BMP, urinalysis, and urine culture to evaluate for any signs of infection.\n",
    "\n",
    "INSTRUCTIONS\n",
    "\n",
    "The patient will follow up with me in 1 to 2 weeks to check on his progress. If his symptoms have not improved, we will discuss further treatment options including lithotripsy.\n",
    "\n",
    "\"\"\"\n",
    "\n",
    "    user_content = f\"\"\"\n",
    "    Below is a real doctor–patient conversation.\n",
    "    \n",
    "    Write the SOAP note in the exact format.\n",
    "    \n",
    "    Conversation:\n",
    "    {dialogue}\n",
    "    \n",
    "    SOAP Note:\n",
    "    \"\"\"\n",
    "\n",
    "    response = client.chat.completions.create(\n",
    "        model=MODEL_ID,\n",
    "        messages=[\n",
    "            {\"role\": \"system\", \"content\": system_content},\n",
    "            {\"role\": \"user\", \"content\": user_content},\n",
    "        ]\n",
    "    )\n",
    "\n",
    "    generated_note = response.choices[0].message.content\n",
    "\n",
    "    bleu_result = bleu.compute(predictions=[generated_note], references=[reference])\n",
    "    rouge_result = rouge.compute(predictions=[generated_note], references=[reference])\n",
    "    P, R, F1 = score([generated_note], [reference], lang=\"en\")\n",
    "\n",
    "    results.append({\n",
    "        \"Sample_ID\": idx,\n",
    "        \"BLEU\": bleu_result[\"bleu\"],\n",
    "        \"ROUGE1\": rouge_result[\"rouge1\"],\n",
    "        \"ROUGE2\": rouge_result[\"rouge2\"],\n",
    "        \"ROUGEL\": rouge_result[\"rougeL\"],\n",
    "        \"BERTScore_P\": P.mean().item(),\n",
    "        \"BERTScore_R\": R.mean().item(),\n",
    "        \"BERTScore_F1\": F1.mean().item(),\n",
    "        \"Generated_Note\": generated_note,\n",
    "        \"Reference_Note\": reference\n",
    "    })\n",
    "\n",
    "    print(f\"✅ Done: Sample {idx} | BLEU: {bleu_result['bleu']:.4f} | ROUGE-L: {rouge_result['rougeL']:.4f} | BERTScore-F1: {F1.mean().item():.4f}\")\n",
    "\n",
    "df_results = pd.DataFrame(results)\n",
    "df_results.to_csv(\"generated_notes_evaluation.csv\", index=False)\n",
    "print(\"\\n✅ All done! Results saved to: generated_notes_evaluation.csv\")\n"
   ]
  },
  {
   "cell_type": "markdown",
   "id": "eec98890-a991-49c1-b770-72f3c079a6a3",
   "metadata": {},
   "source": [
    "## Review and Inspect Generated Notes\n",
    "\n",
    "In this step, we manually examine a few generated SOAP notes side-by-side with their references.\n",
    "We look for common shortcomings:\n",
    "- Hallucinated facts\n",
    "- Missing medical details\n",
    "- Incoherent phrasing\n",
    "This helps us design better prompts or pre/post-processing.\n"
   ]
  },
  {
   "cell_type": "code",
   "execution_count": 32,
   "id": "1aeed110-bb66-45a4-beb1-b121f335dae3",
   "metadata": {},
   "outputs": [
    {
     "name": "stderr",
     "output_type": "stream",
     "text": [
      "Some weights of RobertaModel were not initialized from the model checkpoint at roberta-large and are newly initialized: ['roberta.pooler.dense.bias', 'roberta.pooler.dense.weight']\n",
      "You should probably TRAIN this model on a down-stream task to be able to use it for predictions and inference.\n"
     ]
    },
    {
     "name": "stdout",
     "output_type": "stream",
     "text": [
      "\n",
      "🔍 Potential problem in Sample 19\n",
      "[doctor] hi richard how are you the medical assistant told me that you have a tick bite is that what happened\n",
      "[patient] i really do n't know where i got it but i i had i do get out in the woods and i do spend a lot of time out in the yard but yeah i've got a tick bite around my knee and and it's been it's been over a week and and just it just burns and just quite annoying\n",
      "[doctor] okay and have you had any fever or chills\n",
      "[patient] i have not at this point it just feels warm on that spot\n",
      "[doctor ...\n",
      "\n",
      "=== Generated ===\n",
      "Here is the SOAP note in the exact format:\n",
      "\n",
      "**CHIEF COMPLAINT**\n",
      "\n",
      "Tick bite on the knee.\n",
      "\n",
      "**HISTORY OF PRESENT ILLNESS**\n",
      "\n",
      "Richard, a pleasant male, presents to the clinic today with a tick bite on his knee that has been present for over a week. He reports that the bite has been burning and feeling warm to the touch, but denies fever or chills. He also reports a headache and generally not feeling well. He spends a lot of time outdoors and has been hunting recently.\n",
      "\n",
      "**REVIEW OF SYSTEMS**\n",
      "\n",
      "Musculos ...\n",
      "\n",
      "=== Reference ===\n",
      "CHIEF COMPLAINT\n",
      "\n",
      "Tick bite.\n",
      "\n",
      "MEDICAL HISTORY\n",
      "\n",
      "Patient reports a history of arthritis, hypertension, and diabetes type 2.\n",
      "\n",
      "SOCIAL HISTORY\n",
      "\n",
      "Patient reports he enjoys spending time outside in the woods and working in the yard. He went hunting with his grandchildren a couple of weeks ago.\n",
      "\n",
      "MEDICATIONS\n",
      "\n",
      "Patient reports taking lisinopril 20 mg once a day and metformin 1000 mg twice daily most of the time.\n",
      "\n",
      "REVIEW OF SYSTEMS\n",
      "\n",
      "Constitutional: Reports general ill feelings. Denies any fever, chills, flu l ...\n",
      "---\n"
     ]
    }
   ],
   "source": [
    "# Calculate metrics\n",
    "bleu_result = bleu.compute(predictions=[generated_note], references=[reference])\n",
    "rouge_result = rouge.compute(predictions=[generated_note], references=[reference])\n",
    "P, R, F1 = score([generated_note], [reference], lang=\"en\")\n",
    "\n",
    "# Check for obvious failures\n",
    "review = \"\"\n",
    "if bleu_result[\"bleu\"] < 0.2:\n",
    "    review += \"Low BLEU; \"\n",
    "if rouge_result[\"rougeL\"] < 0.3:\n",
    "    review += \"Low ROUGE-L; \"\n",
    "if F1.mean().item() < 0.75:\n",
    "    review += \"Low BERTScore; \"\n",
    "\n",
    "if review:\n",
    "    print(\"\\n🔍 Potential problem in Sample\", idx)\n",
    "    print(dialogue[:500], \"...\")\n",
    "    print(\"\\n=== Generated ===\")\n",
    "    print(generated_note[:500], \"...\")\n",
    "    print(\"\\n=== Reference ===\")\n",
    "    print(reference[:500], \"...\")\n",
    "    print(\"---\")\n",
    "\n",
    "# Store all\n",
    "results.append({\n",
    "    \"Sample_ID\": idx,\n",
    "    \"BLEU\": bleu_result[\"bleu\"],\n",
    "    \"ROUGE1\": rouge_result[\"rouge1\"],\n",
    "    \"ROUGE2\": rouge_result[\"rouge2\"],\n",
    "    \"ROUGEL\": rouge_result[\"rougeL\"],\n",
    "    \"BERTScore_P\": P.mean().item(),\n",
    "    \"BERTScore_R\": R.mean().item(),\n",
    "    \"BERTScore_F1\": F1.mean().item(),\n",
    "    \"Generated_Note\": generated_note,\n",
    "    \"Reference_Note\": reference,\n",
    "    \"Review_Flag\": review.strip()\n",
    "})\n"
   ]
  },
  {
   "cell_type": "code",
   "execution_count": 33,
   "id": "cd0d8975-0040-4430-9ad3-e78cbff083af",
   "metadata": {},
   "outputs": [
    {
     "name": "stderr",
     "output_type": "stream",
     "text": [
      "C:\\Users\\vishn\\anaconda3\\Lib\\site-packages\\cupy\\_environment.py:217: UserWarning: CUDA path could not be detected. Set CUDA_PATH environment variable if CuPy fails to load.\n",
      "  warnings.warn(\n"
     ]
    },
    {
     "name": "stdout",
     "output_type": "stream",
     "text": [
      "Entities in dialogue: {'the other day', 'about two months ago', 'a week', 'about three weeks', 'about a year ago two years ago', 'anesthesia', 'one hundred', 'twenty', 'about one twenty two', 'two', 'first', 'today', 'one', 'sixty seven', 'ninety eight', 'bull', 'one thousand', 'four', 'second', 'third', 'richard'}\n",
      "Entities in generated note: {'gallop', '1000', '3 weeks', '120s', 'a week', '2', 'tick', '3', '100', 'soap', '20', 'additional testing: lyme', 'western', '67', 'additional testing: lipid', 'today', 'lyme', '122/70', '98.4', '1', 'additional testing: hemoglobin a1c', 'richard'}\n",
      "Possible hallucinated entities: {'gallop', '1000', '3 weeks', '120s', '2', 'tick', '3', '100', 'soap', '20', 'additional testing: lyme', 'western', '67', 'additional testing: lipid', 'lyme', '122/70', '98.4', '1', 'additional testing: hemoglobin a1c'}\n"
     ]
    }
   ],
   "source": [
    "import spacy\n",
    "\n",
    "# Load spaCy English\n",
    "nlp = spacy.load(\"en_core_web_sm\")\n",
    "\n",
    "def extract_entities(text):\n",
    "    doc = nlp(text)\n",
    "    entities = set([ent.text.lower() for ent in doc.ents])\n",
    "    return entities\n",
    "\n",
    "# For each sample:\n",
    "dialogue_entities = extract_entities(dialogue)\n",
    "note_entities = extract_entities(generated_note)\n",
    "\n",
    "# Find hallucinated entities\n",
    "hallucinated = note_entities - dialogue_entities\n",
    "\n",
    "print(\"Entities in dialogue:\", dialogue_entities)\n",
    "print(\"Entities in generated note:\", note_entities)\n",
    "print(\"Possible hallucinated entities:\", hallucinated)\n"
   ]
  },
  {
   "cell_type": "markdown",
   "id": "5bc95364-5ad3-45fe-8708-598ce63d416c",
   "metadata": {},
   "source": [
    "# Conclusion and Future plan\n",
    "\n",
    "We wrap up by summarizing:\n",
    "- What worked well (prompting, zero-shot vs few-shot)? few-shot worked well.\n",
    "- metrics revealed\n",
    "    *BLEU\n",
    "    *ROUGE\n",
    "    *BERT_SCORE\n",
    "    *Hallucinated entities\n",
    "\n",
    "   \n",
    "# How we could reach better factual consistency in the future.\n",
    "**Add More Data:** Combine ACI-Bench with other open clinical conversation datasets (e.g., MIMIC-III clinical notes, other SOAP note corpora) to increase coverage and variability.\n",
    "**Clean & Preprocess:** Ensure all additional data is de-identified, high-quality, and matches the target output style.\n",
    "**Domain Fine-Tuning:** Fine-tune a suitable open-source medical LLM (e.g., MedAlpaca, LLaMA, Mistral) using this larger dataset. This would help the model better understand medical terminology, SOAP formats, and reduce hallucinations.\n",
    "**Pipeline Integration:** Use Retrieval-Augmented Generation (RAG) with medical knowledge bases to fact-check and enhance factual accuracy during note generation.\n",
    "**Monitor Factuality:** Continue evaluating with both automatic metrics and manual review to ensure patient safety and clinical reliability.\n",
    "\n"
   ]
  },
  {
   "cell_type": "code",
   "execution_count": null,
   "id": "a70d5e9e-2358-47a4-81e2-ba58fc87126b",
   "metadata": {},
   "outputs": [],
   "source": []
  },
  {
   "cell_type": "code",
   "execution_count": null,
   "id": "9b7bf008-c9e4-4d04-b0b4-d9416069e333",
   "metadata": {},
   "outputs": [],
   "source": []
  }
 ],
 "metadata": {
  "kernelspec": {
   "display_name": "Python 3 (ipykernel)",
   "language": "python",
   "name": "python3"
  },
  "language_info": {
   "codemirror_mode": {
    "name": "ipython",
    "version": 3
   },
   "file_extension": ".py",
   "mimetype": "text/x-python",
   "name": "python",
   "nbconvert_exporter": "python",
   "pygments_lexer": "ipython3",
   "version": "3.12.7"
  }
 },
 "nbformat": 4,
 "nbformat_minor": 5
}
